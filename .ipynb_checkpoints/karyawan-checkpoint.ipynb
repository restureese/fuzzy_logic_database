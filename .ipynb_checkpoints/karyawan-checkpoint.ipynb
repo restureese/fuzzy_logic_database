{
 "cells": [
  {
   "cell_type": "markdown",
   "metadata": {},
   "source": [
    "# Koneksi Database"
   ]
  },
  {
   "cell_type": "code",
   "execution_count": 34,
   "metadata": {},
   "outputs": [],
   "source": [
    "import MySQLdb\n",
    " \n",
    "db = MySQLdb.connect(host=\"localhost\",  # your host \n",
    "                     user=\"root\",       # username\n",
    "                     passwd=\"masrestu\",     # password\n",
    "                     db=\"fuzzy\")   # name of the database"
   ]
  },
  {
   "cell_type": "markdown",
   "metadata": {},
   "source": [
    "# Membuat Objek untuk Execute SQL"
   ]
  },
  {
   "cell_type": "code",
   "execution_count": 43,
   "metadata": {},
   "outputs": [],
   "source": [
    "sql = db.cursor()"
   ]
  },
  {
   "cell_type": "markdown",
   "metadata": {},
   "source": [
    "# Data Awal"
   ]
  },
  {
   "cell_type": "code",
   "execution_count": 44,
   "metadata": {},
   "outputs": [
    {
     "name": "stdout",
     "output_type": "stream",
     "text": [
      "01   Lia   30   6.0   750000.0\n",
      "02   Iwan   48   17.0   1500000.0\n",
      "03   Sari   36   14.0   1255000.0\n",
      "04   Andi   37   4.0   1040000.0\n",
      "05   Budi   42   12.0   950000.0\n",
      "06   Amir   39   13.0   1600000.0\n",
      "07   Rian   37   5.0   1250000.0\n",
      "08   Kiki   32   1.0   550000.0\n",
      "09   Alda   35   3.0   735000.0\n",
      "10   Yoga   25   2.0   860000.0\n"
     ]
    }
   ],
   "source": [
    "sql.execute(\"SELECT * FROM karyawan\")\n",
    "for row in sql.fetchall() :\n",
    "    print(row[0], \" \", row[1], \" \", row[2], \" \", row[3], \" \", row[4])"
   ]
  },
  {
   "cell_type": "markdown",
   "metadata": {},
   "source": [
    "# Fungsi Fuzzy Umur         "
   ]
  },
  {
   "cell_type": "code",
   "execution_count": 30,
   "metadata": {},
   "outputs": [],
   "source": [
    "def _muda(umur):\n",
    "    if umur <= 30:\n",
    "        return 1\n",
    "    if umur>=40:\n",
    "        return 0\n",
    "    if umur > 30 and umur < 40:\n",
    "        return (40 - umur) / 10\n",
    "\n",
    "def _parobaya(umur):\n",
    "    if umur <= 35 or umur >= 50:\n",
    "        return 0\n",
    "    if umur > 35 and umur < 45:\n",
    "        return (umur - 35)/ 10\n",
    "    if umur > 45 and umur < 50:\n",
    "        return (50 - umur) / 5\n",
    "def _tua(umur):\n",
    "    if umur <= 40:\n",
    "        return 0\n",
    "    if umur>=50:\n",
    "        return 1\n",
    "    if umur > 40 and umur < 50:\n",
    "        return (umur - 40) / 10\n",
    "\n",
    "def predict_Umur(umur):\n",
    "    muda = _muda(umur)\n",
    "    parobaya = _parobaya(umur)\n",
    "    tua = _tua(umur)\n",
    "\n",
    "    return muda, parobaya, tua"
   ]
  },
  {
   "cell_type": "markdown",
   "metadata": {},
   "source": [
    "# Fungsi Fuzzy Masa Kerja"
   ]
  },
  {
   "cell_type": "code",
   "execution_count": null,
   "metadata": {},
   "outputs": [],
   "source": [
    "def _baru(masakerja):\n",
    "    if masakerja <= 5:\n",
    "        return 1\n",
    "    if masakerja >= 15:\n",
    "        return 0\n",
    "    if masakerja > 5 or masakerja < 15:\n",
    "        return (15 - masakerja)/10\n",
    "\n",
    "\n",
    "def _lama(masakerja):\n",
    "    if masakerja <= 10:\n",
    "        return 0\n",
    "    if masakerja >= 25:\n",
    "        return 1\n",
    "    if masakerja > 10 or masakerja < 25:\n",
    "        return (masakerja - 10)/15\n",
    "\n",
    "def predict_MasaKerja(masakerja):\n",
    "    baru = _baru(masakerja)\n",
    "    lama = _lama(masakerja)\n",
    "    return baru, lama"
   ]
  },
  {
   "cell_type": "markdown",
   "metadata": {},
   "source": [
    "# Fungsi Fuzzy Gaji"
   ]
  },
  {
   "cell_type": "code",
   "execution_count": null,
   "metadata": {},
   "outputs": [],
   "source": [
    "def _rendah(gaji):\n",
    "    if gaji <= 300000:\n",
    "        return 1\n",
    "    if gaji >=800000:\n",
    "        return 0\n",
    "    if gaji > 300000 or gaji < 800000:\n",
    "        return (800000 - gaji) / 500000\n",
    "\n",
    "def _sedang(gaji):\n",
    "    if gaji <= 500000 or gaji >= 1500000:\n",
    "        return 0\n",
    "    if gaji> 500000 and gaji < 1000000:\n",
    "        return (gaji - 500000)/ 500000\n",
    "    if gaji > 1000000 and gaji < 1500000:\n",
    "        return (1500000 - gaji) / 500000\n",
    "\n",
    "def _tinggi(gaji):\n",
    "    if gaji <= 1000000:\n",
    "        return 0\n",
    "    if gaji>=2000000:\n",
    "        return 1\n",
    "    if gaji > 1000000 or gaji < 2000000:\n",
    "        return (gaji - 1000000) / 1000000\n",
    "\n",
    "def predict_Gaji(gaji):       \n",
    "    rendah = _rendah(gaji)\n",
    "    sedang = _sedang(gaji)\n",
    "    tinggi = _tinggi(gaji)\n",
    "    return rendah, sedang, tinggi"
   ]
  },
  {
   "cell_type": "markdown",
   "metadata": {},
   "source": [
    "# Membuat Tabel"
   ]
  },
  {
   "cell_type": "code",
   "execution_count": null,
   "metadata": {},
   "outputs": [],
   "source": [
    "from beautifultable import BeautifulTable\n",
    "\n",
    "table_umur = BeautifulTable()\n",
    "table_masakerja = BeautifulTable()\n",
    "table_gaji = BeautifulTable()"
   ]
  },
  {
   "cell_type": "markdown",
   "metadata": {},
   "source": [
    "# Fuzzy Umur"
   ]
  },
  {
   "cell_type": "code",
   "execution_count": null,
   "metadata": {},
   "outputs": [],
   "source": [
    "sql.execute(\"SELECT * FROM karyawan\")\n",
    "\n",
    "header_umur = [\"No\",\"Nama\",\"Umur\",\"Muda\",\"Parobaya\",\"Tua\"]\n",
    "table_umur.column_headers = header_umur\n",
    "\n",
    "for row in sql.fetchall() :\n",
    "    muda, parobaya, tua = predict_Umur(row[2])\n",
    "    #print(row[0], \" \", row[1], \" \", row[2], \" \", row[3], \" \", row[4], \" \", muda, \" \", parobaya, \" \", tua)\n",
    "    table_umur.append_row([row[0], row[1], row[2], muda, parobaya, tua])\n",
    "\n",
    "print(table_umur)"
   ]
  },
  {
   "cell_type": "markdown",
   "metadata": {},
   "source": [
    "# Fuzzy Masa Kerja"
   ]
  },
  {
   "cell_type": "code",
   "execution_count": null,
   "metadata": {},
   "outputs": [],
   "source": [
    "sql.execute(\"SELECT * FROM karyawan\")\n",
    "\n",
    "header_masakerja = [\"No\",\"Nama\",\"Masa Kerja\",\"Baru\",\"Lama\"]\n",
    "table_masakerja.column_headers = header_masakerja\n",
    "\n",
    "for row in sql.fetchall() :\n",
    "    baru, lama = predict_MasaKerja(row[3])\n",
    "    table_masakerja.append_row([row[0], row[1], row[3], baru, lama])\n",
    "\n",
    "print(table_masakerja)"
   ]
  }
 ],
 "metadata": {
  "kernelspec": {
   "display_name": "Python 3",
   "language": "python",
   "name": "python3"
  },
  "language_info": {
   "codemirror_mode": {
    "name": "ipython",
    "version": 3
   },
   "file_extension": ".py",
   "mimetype": "text/x-python",
   "name": "python",
   "nbconvert_exporter": "python",
   "pygments_lexer": "ipython3",
   "version": "3.5.4"
  }
 },
 "nbformat": 4,
 "nbformat_minor": 2
}
