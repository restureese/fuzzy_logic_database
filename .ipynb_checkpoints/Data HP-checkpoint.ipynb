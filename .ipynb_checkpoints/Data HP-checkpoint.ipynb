{
 "cells": [
  {
   "cell_type": "markdown",
   "metadata": {},
   "source": [
    "# Koneksi Database"
   ]
  },
  {
   "cell_type": "code",
   "execution_count": null,
   "metadata": {},
   "outputs": [],
   "source": [
    "import MySQLdb\n",
    " \n",
    "db = MySQLdb.connect(host=\"localhost\",  # your host \n",
    "                     user=\"root\",       # username\n",
    "                     passwd=\"masrestu\",     # password\n",
    "                     db=\"fuzzy\")   # name of the database"
   ]
  },
  {
   "cell_type": "markdown",
   "metadata": {},
   "source": [
    "# Membuat objek sql"
   ]
  },
  {
   "cell_type": "code",
   "execution_count": null,
   "metadata": {},
   "outputs": [],
   "source": [
    "sql = db.cursor()"
   ]
  },
  {
   "cell_type": "markdown",
   "metadata": {},
   "source": [
    "# Membuat Tabel"
   ]
  },
  {
   "cell_type": "code",
   "execution_count": null,
   "metadata": {},
   "outputs": [],
   "source": [
    "from beautifultable import BeautifulTable\n",
    "\n"
   ]
  },
  {
   "cell_type": "markdown",
   "metadata": {},
   "source": [
    "# Data Awal"
   ]
  },
  {
   "cell_type": "code",
   "execution_count": null,
   "metadata": {},
   "outputs": [],
   "source": [
    "sql.execute(\"SELECT * FROM DataHP\")"
   ]
  },
  {
   "cell_type": "markdown",
   "metadata": {},
   "source": [
    "# Fungsi Fuzzy Harga"
   ]
  },
  {
   "cell_type": "code",
   "execution_count": null,
   "metadata": {},
   "outputs": [],
   "source": [
    "def harga_murah(harga):\n",
    "    if harga <= 50:\n",
    "        return 1\n",
    "    if harga >= 150:\n",
    "        return 0\n",
    "    if harga > 50 and harga < 150:\n",
    "        return round(((150 - harga) / 100),3)\n",
    "\n",
    "def harga_normal(harga):\n",
    "    if harga <= 50 or harga >= 500:\n",
    "        return 0\n",
    "    if harga > 50 and harga < 150:\n",
    "        return round(((harga - 50)/ 100),3)\n",
    "    if harga > 150 and harga < 500:\n",
    "        return round(((500 - harga) / 350),3)\n",
    "def harga_mahal(harga):\n",
    "    if harga <= 150:\n",
    "        return 0\n",
    "    if harga >= 500:\n",
    "        return 1\n",
    "    if harga > 150 and harga < 500:\n",
    "        return round(((harga - 150) / 350),3)\n",
    "\n",
    "def predict_Harga(harga):\n",
    "    murah = harga_murah(harga)\n",
    "    normal = harga_normal(harga)\n",
    "    mahal = harga_mahal(harga)\n",
    "\n",
    "    return murah, normal, mahal"
   ]
  },
  {
   "cell_type": "markdown",
   "metadata": {},
   "source": [
    "# Fuzzy Harga"
   ]
  },
  {
   "cell_type": "code",
   "execution_count": null,
   "metadata": {},
   "outputs": [],
   "source": [
    "sql.execute(\"SELECT Type,Harga FROM DataHP\")\n",
    "\n",
    "table_harga = BeautifulTable()\n",
    "\n",
    "header_harga = [\"No\",\"type\",\"harga\",\"murah\",\"normal\",\"mahal\"]\n",
    "table_harga.column_headers = header_harga\n",
    "nomor = 1\n",
    "for row in sql.fetchall() :\n",
    "    murah, normal, mahal = predict_Harga(row[1])\n",
    "    #print(row[0], \" \", row[1], \" \", row[2], \" \", row[3], \" \", row[4], \" \", muda, \" \", parobaya, \" \", tua)\n",
    "    table_harga.append_row([nomor, row[0], row[1], murah, normal, mahal])\n",
    "    nomor = nomor + 1\n",
    "print(table_harga)"
   ]
  },
  {
   "cell_type": "markdown",
   "metadata": {},
   "source": [
    "# Fungsi Fuzzy Dimensi"
   ]
  },
  {
   "cell_type": "code",
   "execution_count": null,
   "metadata": {},
   "outputs": [],
   "source": [
    "def panjang_Pendek(panjang):\n",
    "    if panjang <= 65:\n",
    "        return 1\n",
    "    if panjang >= 100:\n",
    "        return 0\n",
    "    if panjang > 65 and panjang < 100:\n",
    "        return (100 - panjang) / 35\n",
    "    \n",
    "def panjang_Normal(panjang):\n",
    "    if panjang <= 65 or panjang >= 200:\n",
    "        return 0\n",
    "    if panjang > 65 and panjang < 100:\n",
    "        return (panjang - 65) / 35\n",
    "    if panjang > 100 and panjang < 200:\n",
    "        return (200 - panjang) / 100\n",
    "    \n",
    "def panjang_Panjang(panjang):\n",
    "    if panjang <= 100:\n",
    "        return 0\n",
    "    if panjang >= 200:\n",
    "        return 1\n",
    "    if panjang > 100 and panjang < 200:\n",
    "        return (panjang - 100) / 100\n",
    "\n",
    "def lebar_Sempit(lebar):\n",
    "    if lebar <= 20:\n",
    "        return 1\n",
    "    if lebar >= 45:\n",
    "        return 0\n",
    "    if lebar > 20 and lebar < 45:\n",
    "        return (45 - lebar) / 7\n",
    "    \n",
    "def lebar_Normal(lebar):\n",
    "    if lebar <= 20 or lebar >= 45:\n",
    "        return 0\n",
    "    if lebar > 20 and lebar < 45:\n",
    "        return (lebar - 20) / 15\n",
    "    if lebar > 45 and lebar < 80:\n",
    "        return (80 - lebar) / 35\n",
    "    \n",
    "def lebar_Lebar(lebar):\n",
    "    if lebar <= 45:\n",
    "        return 0\n",
    "    if lebar >= 80:\n",
    "        return 1\n",
    "    if lebar > 45 and lebar < 80:\n",
    "        return (lebar - 45) / 35\n",
    "    \n",
    "\n",
    "def tebal_Tipis(tebal):\n",
    "    if tebal <= 10:\n",
    "        return 1\n",
    "    if tebal >= 25:\n",
    "        return 0\n",
    "    if tebal > 10 and tebal < 25:\n",
    "        return (25 - tebal) / 15\n",
    "    \n",
    "def tebal_Normal(tebal):\n",
    "    if tebal <= 10 or tebal >= 100:\n",
    "        return 0\n",
    "    if tebal > 10 and tebal < 25:\n",
    "        return (tebal - 10) / 15\n",
    "    if tebal > 25 and tebal < 100:\n",
    "        return (100 - tebal) / 75\n",
    "    \n",
    "def tebal_Tebal(tebal):\n",
    "    if tebal <= 25:\n",
    "        return 0\n",
    "    if tebal >=100:\n",
    "        return 1\n",
    "    if tebal > 25 and tebal < 100:\n",
    "        return (tebal - 25) / 75\n",
    "    \n",
    "def ukuran_kecil(ukuran):\n",
    "    if ukuran <= 13:\n",
    "        return 1\n",
    "    if ukuran >= 112.5:\n",
    "        return 0\n",
    "    if ukuran > 13 and ukuran < 112.5:\n",
    "        return round(((112.5 - ukuran) / 99.5),3)\n",
    "\n",
    "def ukuran_normal(ukuran):\n",
    "    if ukuran <= 13 or ukuran >= 1600:\n",
    "        return 0\n",
    "    if ukuran > 13 and ukuran < 99.5:\n",
    "        return (ukuran - 13) / 99.5\n",
    "    if ukuran > 99.5 and ukuran < 1600:\n",
    "        return round(((1600 - ukuran) / 1487.5),3)\n",
    "    \n",
    "def ukuran_besar(ukuran):\n",
    "    if ukuran <= 112.5:\n",
    "        return 0\n",
    "    if ukuran >= 1600:\n",
    "        return 1\n",
    "    if ukuran > 112.5 and ukuran < 1600:\n",
    "        return round(((ukuran - 112.5) / 1487.5),3)\n",
    "\n",
    "def predict_Dimensi(panjang, lebar, tebal):\n",
    "   \n",
    "    ukuran = (panjang * lebar * tebal) / 1000\n",
    "    kecil = ukuran_kecil(ukuran)\n",
    "    normal = ukuran_normal(ukuran)\n",
    "    besar = ukuran_besar(ukuran)\n",
    "    return kecil, normal, besar"
   ]
  },
  {
   "cell_type": "code",
   "execution_count": null,
   "metadata": {},
   "outputs": [],
   "source": [
    "sql.execute(\"SELECT Type,P,L,T FROM DataHP\")\n",
    "for row in sql.fetchall() :\n",
    "    p = panjang_Pendek(row[2])\n",
    "    print(row[1],\" \",row[2],\" \",row[3],\" \",(row[1]* row[2] *row[3])/1000)"
   ]
  },
  {
   "cell_type": "markdown",
   "metadata": {},
   "source": [
    "# Fuzzy Dimensi"
   ]
  },
  {
   "cell_type": "code",
   "execution_count": null,
   "metadata": {},
   "outputs": [],
   "source": [
    "sql.execute(\"SELECT Type,P,L,T FROM DataHP\")\n",
    "\n",
    "table_dimensi = BeautifulTable()\n",
    "\n",
    "header_dimensi = [\"No\",\"type\",\"P\",\"L\",\"T\",\"P*L*T\",\"Kecil\",\"Normal\",\"Besar\"]\n",
    "table_dimensi.column_headers = header_dimensi\n",
    "nomor = 1\n",
    "for row in sql.fetchall() :\n",
    "    kecil, normal, besar = predict_Dimensi(panjang=row[1],lebar=row[2],tebal=row[3])\n",
    "    #print(row[0], \" \", row[1], \" \", row[2], \" \", row[3], \" \", row[4], \" \", muda, \" \", parobaya, \" \", tua)\n",
    "    table_dimensi.append_row([nomor, row[0], row[1], row[2], row[3],row[1]*row[2]*row[3], kecil, normal, besar])\n",
    "    nomor = nomor + 1\n",
    "print(table_dimensi)"
   ]
  },
  {
   "cell_type": "markdown",
   "metadata": {},
   "source": [
    "# Fungsi Fuzzy Berat"
   ]
  },
  {
   "cell_type": "code",
   "execution_count": null,
   "metadata": {},
   "outputs": [],
   "source": [
    "def berat_ringan(berat):\n",
    "    if berat <= 50:\n",
    "        return 1\n",
    "    if berat >= 100:\n",
    "        return 0\n",
    "    if berat > 50 and berat < 100:\n",
    "        return round(((100-berat) / 50),3)\n",
    "\n",
    "def berat_normal(berat):\n",
    "    if berat <= 50 or berat >= 250:\n",
    "        return 0\n",
    "    if berat > 50 and berat < 100:\n",
    "        return round(((berat - 50) / 50),3)\n",
    "    if berat > 100 and berat < 250:\n",
    "        return round(((250 - berat) / 150),3)\n",
    "\n",
    "def berat_berat(berat):\n",
    "    if berat <= 100:\n",
    "        return 0\n",
    "    if berat >= 250:\n",
    "        return 1\n",
    "    if berat > 100 and berat < 250:\n",
    "        return round(((berat - 100) / 150),3)\n",
    "\n",
    "def predict_Berat(berat):\n",
    "    ringan = berat_ringan(berat)\n",
    "    normal = berat_normal(berat)\n",
    "    berat = berat_berat(berat)\n",
    "    return ringan, normal, berat"
   ]
  },
  {
   "cell_type": "markdown",
   "metadata": {},
   "source": [
    "# Fuzzy Berat"
   ]
  },
  {
   "cell_type": "code",
   "execution_count": null,
   "metadata": {},
   "outputs": [],
   "source": [
    "sql.execute(\"SELECT Type,Berat FROM DataHP\")\n",
    "\n",
    "table_berat = BeautifulTable()\n",
    "\n",
    "header_berat = [\"No\",\"Type\",\"Berat\",\"Ringan\",\"Normal\",\"Berat\"]\n",
    "table_dimensi.column_headers = header_dimensi\n",
    "nomor = 1\n",
    "for row in sql.fetchall() :\n",
    "    ringan, normal, berat = predict_Berat(row[1])\n",
    "    \n",
    "    table_berat.append_row([nomor, row[0], row[1],ringan, normal, berat])\n",
    "    nomor = nomor + 1\n",
    "print(table_berat)"
   ]
  },
  {
   "cell_type": "markdown",
   "metadata": {},
   "source": [
    "# Fungsi Fuzzy Standby Time"
   ]
  },
  {
   "cell_type": "code",
   "execution_count": null,
   "metadata": {},
   "outputs": [],
   "source": [
    "def standby_Sebentar(standby):\n",
    "    if standby <= 50:\n",
    "        return 1\n",
    "    if standby >= 200:\n",
    "        return 0\n",
    "    if standby > 50 and standby < 200:\n",
    "        return round(((200 - standby) / 150),3)\n",
    "\n",
    "def standby_Normal(standby):\n",
    "    if standby <= 50 or standby >= 500:\n",
    "        return 0\n",
    "    if standby > 50 and standby < 200:\n",
    "        return round(((standby - 50) / 150),3)\n",
    "    if standby > 200 and standby < 500:\n",
    "        return round(((500 - standby) / 300),3)\n",
    "\n",
    "def standby_Lama(standby):\n",
    "    if standby <= 200:\n",
    "        return 0\n",
    "    if standby >= 500:\n",
    "        return 1\n",
    "    if standby > 200 and standby < 500:\n",
    "        return round(((standby - 200) / 300),3)\n",
    "\n",
    "def predict_Standby(standby):\n",
    "    sebentar = standby_Sebenter(standby)\n",
    "    normal = standby_Normal(standby)\n",
    "    lama = standby_Lama(standby)\n",
    "    \n",
    "    return sebentar, normal, lama"
   ]
  },
  {
   "cell_type": "markdown",
   "metadata": {},
   "source": [
    "# Fuzzy Standby Time"
   ]
  },
  {
   "cell_type": "code",
   "execution_count": null,
   "metadata": {},
   "outputs": [],
   "source": [
    "sql.execute(\"SELECT Type,StandBy FROM DataHP\")\n",
    "\n",
    "table_standby = BeautifulTable()\n",
    "\n",
    "header_standby = [\"No\",\"Type\",\"Berat\",\"Ringan\",\"Normal\",\"Berat\"]\n",
    "table_standby.column_headers = header_standby\n",
    "nomor = 1\n",
    "for row in sql.fetchall() :\n",
    "    sebentar, normal, lama = predict_Standby(row[1])\n",
    "    \n",
    "    table_standby.append_row([nomor, row[0], row[1],sebentar, normal, lama])\n",
    "    nomor = nomor + 1\n",
    "print(table_standby)"
   ]
  },
  {
   "cell_type": "markdown",
   "metadata": {},
   "source": [
    "# Fungsi Fuzzy Talk Time\n",
    "sebentar = {1, x <= 50}\n",
    "           {250 - x / 200, 50 < x < 250}\n",
    "           {0, x >= 250}\n",
    "normal = {0, x <= 50 or x >= 250}\n",
    "         {x - 50 / 200, 50 < x < 250}\n",
    "         {1000 - x / 750, 250 < x < 1000}\n",
    "lama = {0, x<= 250}\n",
    "       {x - 250 / 750, 250 < x < 1000}\n",
    "       {1, x >= 1000}"
   ]
  },
  {
   "cell_type": "code",
   "execution_count": null,
   "metadata": {},
   "outputs": [],
   "source": []
  },
  {
   "cell_type": "markdown",
   "metadata": {},
   "source": [
    "# Fuzzy Talk Time"
   ]
  },
  {
   "cell_type": "code",
   "execution_count": null,
   "metadata": {},
   "outputs": [],
   "source": [
    "sql.execute(\"SELECT Type,TalkTime FROM DataHP\")"
   ]
  },
  {
   "cell_type": "markdown",
   "metadata": {},
   "source": [
    "# Fungsi Fuzzy Phonebook Memory\n",
    "sedikit = {1, x <= 50}\n",
    "           {250 - x / 200, 50 < x < 250}\n",
    "           {0, x >= 250}\n",
    "sedang = {0, x <= 50 or x >= 1000}\n",
    "         {x - 50 / 200, 50 < x < 250}\n",
    "         {1000 - x / 750, 250 < x < 1000}\n",
    "banyak = {0, x<= 250}\n",
    "       {x - 250 / 750, 250 < x < 1000}\n",
    "       {1, x >= 1000}"
   ]
  },
  {
   "cell_type": "code",
   "execution_count": null,
   "metadata": {},
   "outputs": [],
   "source": [
    "def pb_sedikit(phonebook):\n",
    "    if phonebook <= 50:\n",
    "        return 1\n",
    "    if phonebook >= 250:\n",
    "        return 0\n",
    "    if phonebook > 50 and phonebook < 250:\n",
    "        return round(((250 - phonebook) / 200),3)\n",
    "\n",
    "def pb_sedang(phonebook):\n",
    "    if phonebook <= 50 or phonebook >= 1000:\n",
    "        return 0\n",
    "    if phonebook > 50 and phonebook < 250:\n",
    "        return round(((phonebook - 50) / 200),3)\n",
    "    if phonebook > 250 and phonebook < 1000:\n",
    "        return round(((1000 - phonebook) / 750),3)\n",
    "\n",
    "def pb_banyak(phonebook):\n",
    "    if phonebook <= 250:\n",
    "        return 0\n",
    "    if phonebook >= 1000:\n",
    "        return 1\n",
    "    if phonebook > 250 and phonebook < 1000:\n",
    "        return round(((phonebook - 250) / 750),3)\n",
    "\n",
    "def predict_PhoneBook(phonebook):\n",
    "    sebentar = pb_sedikit(phonebook)\n",
    "    normal = pb_sedang(phonebook)\n",
    "    lama = pb_banyak(phonebook)\n",
    "    \n",
    "    return sebentar, normal, lama"
   ]
  },
  {
   "cell_type": "markdown",
   "metadata": {},
   "source": [
    "# Fuzzy Phonebook Memory"
   ]
  },
  {
   "cell_type": "code",
   "execution_count": null,
   "metadata": {},
   "outputs": [],
   "source": [
    "sql.execute(\"SELECT Type,PhoneBook FROM DataHP\")"
   ]
  },
  {
   "cell_type": "markdown",
   "metadata": {},
   "source": [
    "# Fungsi Fuzzy Voice Dialing\n",
    "sedikit =  {1, x <= 0}\n",
    "           {10 - x / 10, 0 < x < 10}\n",
    "           {0, x >= 10}\n",
    "           \n",
    "sedang = {0, x >= 25 }\n",
    "         {x / 10, 0 < x < 10 }\n",
    "         {25 - x / 15, 10 < x < 25}\n",
    "banyak = {0, x<= 10}\n",
    "       {x - 10 / 15, 10 < x < 25}\n",
    "       {1, x >= 25}"
   ]
  },
  {
   "cell_type": "code",
   "execution_count": null,
   "metadata": {},
   "outputs": [],
   "source": [
    "def voice_Sedikit(voice_dialing):\n",
    "    if voice_dialing <= 0:\n",
    "        return 0\n",
    "    if voice_dialing >= 10:\n",
    "        return 0\n",
    "    if voice_dialing > 0 and voice_dialing < 10:\n",
    "        return (10 - voice_dialing) / 10\n",
    "    \n",
    "def voice_Sedang(voice_dialing):\n",
    "    if voice_dialing >= 25:\n",
    "        return 0\n",
    "    if voice_dialing > 0 and voice_dialing < 10:\n",
    "        return (voice_dialing / 10)\n",
    "    if voice_dialing >= 10 and voice_dialing <= 25:\n",
    "        return (25 - voice_dialing) / 15\n",
    "    \n",
    "def voice_Banyak(voice_dialing):\n",
    "    if voice_dialing <= 10:\n",
    "        return 0\n",
    "    if voice_dialing >= 25:\n",
    "        return 1\n",
    "    if voice_dialing >= 10 and voice_dialing >= 25:\n",
    "        return (voice_dialing - 10) / 15\n"
   ]
  },
  {
   "cell_type": "markdown",
   "metadata": {},
   "source": [
    "# Fuzzy Voice Dialing"
   ]
  },
  {
   "cell_type": "code",
   "execution_count": null,
   "metadata": {},
   "outputs": [],
   "source": [
    "sql.execute(\"SELECT Type,VoiceDailing FROM DataHP\")"
   ]
  },
  {
   "cell_type": "markdown",
   "metadata": {},
   "source": [
    "# Fungsi Fuzzy Games\n",
    "sedikit =\n",
    "           {5 - x / 5, 0 < x < 5}\n",
    "           {0, x >= 5}\n",
    "sedang = {0,  x >= 10}\n",
    "         {x / 5, 0 < x < 5}\n",
    "         {15 - x / 5, 10 < x < 15}\n",
    "banyak = {0, x<= 5}\n",
    "       {x - 5 / 5, 5 < x < 10}\n",
    "       {1, x >= 10}"
   ]
  },
  {
   "cell_type": "code",
   "execution_count": null,
   "metadata": {},
   "outputs": [],
   "source": []
  },
  {
   "cell_type": "markdown",
   "metadata": {},
   "source": [
    "# Fuzzy Games"
   ]
  },
  {
   "cell_type": "code",
   "execution_count": null,
   "metadata": {},
   "outputs": [],
   "source": [
    "sql.execute(\"SELECT Type,Games FROM DataHP\")"
   ]
  },
  {
   "cell_type": "markdown",
   "metadata": {},
   "source": [
    "# Fungsi Fuzzy Message Length\n",
    "pendek =  {1, x <= 100}\n",
    "           {200 - x / 100, 100 < x < 200}\n",
    "           {0, x >= 200}\n",
    "           \n",
    "normal = {0, x <= 100 or x >= 750 }\n",
    "         {x - 100 / 100, 100 < x < 200 }\n",
    "         {750 - x / 550, 200 < x < 750}\n",
    "panjang = {0, x<= 200}\n",
    "       {x - 200 / 550, 200 < x < 750}\n",
    "       {1, x >= 750}"
   ]
  },
  {
   "cell_type": "markdown",
   "metadata": {},
   "source": [
    "# Fuzzy Message Length"
   ]
  },
  {
   "cell_type": "code",
   "execution_count": null,
   "metadata": {},
   "outputs": [],
   "source": [
    "sql.execute(\"SELECT Type,MessegeLength FROM DataHP\")"
   ]
  }
 ],
 "metadata": {
  "kernelspec": {
   "display_name": "Python 3",
   "language": "python",
   "name": "python3"
  },
  "language_info": {
   "codemirror_mode": {
    "name": "ipython",
    "version": 3
   },
   "file_extension": ".py",
   "mimetype": "text/x-python",
   "name": "python",
   "nbconvert_exporter": "python",
   "pygments_lexer": "ipython3",
   "version": "3.5.4"
  }
 },
 "nbformat": 4,
 "nbformat_minor": 2
}
